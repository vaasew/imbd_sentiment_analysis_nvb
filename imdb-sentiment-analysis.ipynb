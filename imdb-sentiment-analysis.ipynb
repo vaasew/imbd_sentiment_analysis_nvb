{
 "cells": [
  {
   "cell_type": "code",
   "execution_count": null,
   "id": "9985abb8",
   "metadata": {
    "papermill": {
     "duration": 0.007245,
     "end_time": "2023-02-17T16:36:32.562839",
     "exception": false,
     "start_time": "2023-02-17T16:36:32.555594",
     "status": "completed"
    },
    "tags": []
   },
   "outputs": [],
   "source": []
  },
  {
   "cell_type": "code",
   "execution_count": null,
   "id": "473d3a18",
   "metadata": {
    "papermill": {
     "duration": 0.005328,
     "end_time": "2023-02-17T16:36:32.574131",
     "exception": false,
     "start_time": "2023-02-17T16:36:32.568803",
     "status": "completed"
    },
    "tags": []
   },
   "outputs": [],
   "source": []
  },
  {
   "cell_type": "code",
   "execution_count": 1,
   "id": "dfeadbcf",
   "metadata": {
    "_cell_guid": "b1076dfc-b9ad-4769-8c92-a6c4dae69d19",
    "_uuid": "8f2839f25d086af736a60e9eeb907d3b93b6e0e5",
    "execution": {
     "iopub.execute_input": "2023-02-17T16:36:32.587410Z",
     "iopub.status.busy": "2023-02-17T16:36:32.586982Z",
     "iopub.status.idle": "2023-02-17T16:36:32.623546Z",
     "shell.execute_reply": "2023-02-17T16:36:32.622252Z"
    },
    "papermill": {
     "duration": 0.046131,
     "end_time": "2023-02-17T16:36:32.625938",
     "exception": false,
     "start_time": "2023-02-17T16:36:32.579807",
     "status": "completed"
    },
    "tags": []
   },
   "outputs": [
    {
     "name": "stdout",
     "output_type": "stream",
     "text": [
      "/kaggle/input/imdb-dataset-of-50k-movie-reviews/IMDB Dataset.csv\n"
     ]
    }
   ],
   "source": [
    "# This Python 3 environment comes with many helpful analytics libraries installed\n",
    "# It is defined by the kaggle/python Docker image: https://github.com/kaggle/docker-python\n",
    "# For example, here's several helpful packages to load\n",
    "\n",
    "import numpy as np # linear algebra\n",
    "import pandas as pd # data processing, CSV file I/O (e.g. pd.read_csv)\n",
    "\n",
    "# Input data files are available in the read-only \"../input/\" directory\n",
    "# For example, running this (by clicking run or pressing Shift+Enter) will list all files under the input directory\n",
    "\n",
    "import os\n",
    "for dirname, _, filenames in os.walk('/kaggle/input'):\n",
    "    for filename in filenames:\n",
    "        print(os.path.join(dirname, filename))\n",
    "\n",
    "# You can write up to 20GB to the current directory (/kaggle/working/) that gets preserved as output when you create a version using \"Save & Run All\" \n",
    "# You can also write temporary files to /kaggle/temp/, but they won't be saved outside of the current session"
   ]
  },
  {
   "cell_type": "code",
   "execution_count": 2,
   "id": "c31d6c4c",
   "metadata": {
    "execution": {
     "iopub.execute_input": "2023-02-17T16:36:32.639837Z",
     "iopub.status.busy": "2023-02-17T16:36:32.639195Z",
     "iopub.status.idle": "2023-02-17T16:36:34.365923Z",
     "shell.execute_reply": "2023-02-17T16:36:34.364775Z"
    },
    "papermill": {
     "duration": 1.737045,
     "end_time": "2023-02-17T16:36:34.368874",
     "exception": false,
     "start_time": "2023-02-17T16:36:32.631829",
     "status": "completed"
    },
    "tags": []
   },
   "outputs": [],
   "source": [
    "df=pd.read_csv('/kaggle/input/imdb-dataset-of-50k-movie-reviews/IMDB Dataset.csv')"
   ]
  },
  {
   "cell_type": "markdown",
   "id": "d13395e1",
   "metadata": {
    "papermill": {
     "duration": 0.006179,
     "end_time": "2023-02-17T16:36:34.381238",
     "exception": false,
     "start_time": "2023-02-17T16:36:34.375059",
     "status": "completed"
    },
    "tags": []
   },
   "source": [
    "**TEXT CLEANING**\n",
    "1. Removing html tags\n",
    "1. Removing punctuations from review\n",
    "1. Removing stray br from br tags, t from /t and n from /n\n",
    "1. Removing special characters\n",
    "1. Converting everything to lower case\n",
    "1. Removing stop words\n",
    "1. Stemming"
   ]
  },
  {
   "cell_type": "code",
   "execution_count": 3,
   "id": "8db54834",
   "metadata": {
    "execution": {
     "iopub.execute_input": "2023-02-17T16:36:34.395185Z",
     "iopub.status.busy": "2023-02-17T16:36:34.394803Z",
     "iopub.status.idle": "2023-02-17T16:36:34.637264Z",
     "shell.execute_reply": "2023-02-17T16:36:34.636176Z"
    },
    "papermill": {
     "duration": 0.252317,
     "end_time": "2023-02-17T16:36:34.639714",
     "exception": false,
     "start_time": "2023-02-17T16:36:34.387397",
     "status": "completed"
    },
    "tags": []
   },
   "outputs": [
    {
     "data": {
      "text/html": [
       "<div>\n",
       "<style scoped>\n",
       "    .dataframe tbody tr th:only-of-type {\n",
       "        vertical-align: middle;\n",
       "    }\n",
       "\n",
       "    .dataframe tbody tr th {\n",
       "        vertical-align: top;\n",
       "    }\n",
       "\n",
       "    .dataframe thead th {\n",
       "        text-align: right;\n",
       "    }\n",
       "</style>\n",
       "<table border=\"1\" class=\"dataframe\">\n",
       "  <thead>\n",
       "    <tr style=\"text-align: right;\">\n",
       "      <th></th>\n",
       "      <th>review</th>\n",
       "      <th>sentiment</th>\n",
       "    </tr>\n",
       "  </thead>\n",
       "  <tbody>\n",
       "    <tr>\n",
       "      <th>0</th>\n",
       "      <td>One of the other reviewers has mentioned that ...</td>\n",
       "      <td>positive</td>\n",
       "    </tr>\n",
       "    <tr>\n",
       "      <th>1</th>\n",
       "      <td>A wonderful little production. The filming tec...</td>\n",
       "      <td>positive</td>\n",
       "    </tr>\n",
       "    <tr>\n",
       "      <th>2</th>\n",
       "      <td>I thought this was a wonderful way to spend ti...</td>\n",
       "      <td>positive</td>\n",
       "    </tr>\n",
       "    <tr>\n",
       "      <th>3</th>\n",
       "      <td>Basically there's a family where a little boy ...</td>\n",
       "      <td>negative</td>\n",
       "    </tr>\n",
       "    <tr>\n",
       "      <th>4</th>\n",
       "      <td>Petter Mattei's \"Love in the Time of Money\" is...</td>\n",
       "      <td>positive</td>\n",
       "    </tr>\n",
       "  </tbody>\n",
       "</table>\n",
       "</div>"
      ],
      "text/plain": [
       "                                              review sentiment\n",
       "0  One of the other reviewers has mentioned that ...  positive\n",
       "1  A wonderful little production. The filming tec...  positive\n",
       "2  I thought this was a wonderful way to spend ti...  positive\n",
       "3  Basically there's a family where a little boy ...  negative\n",
       "4  Petter Mattei's \"Love in the Time of Money\" is...  positive"
      ]
     },
     "execution_count": 3,
     "metadata": {},
     "output_type": "execute_result"
    }
   ],
   "source": [
    "# Removing html tags\n",
    "import re\n",
    "def remove_html_tags(text):\n",
    "    pattern = re.compile('<.*?>')\n",
    "    return pattern.sub(r'',text)\n",
    "df['review']=df['review'].apply(remove_html_tags)\n",
    "df.head()"
   ]
  },
  {
   "cell_type": "code",
   "execution_count": 4,
   "id": "da587092",
   "metadata": {
    "execution": {
     "iopub.execute_input": "2023-02-17T16:36:34.654139Z",
     "iopub.status.busy": "2023-02-17T16:36:34.653705Z",
     "iopub.status.idle": "2023-02-17T16:36:34.681076Z",
     "shell.execute_reply": "2023-02-17T16:36:34.679895Z"
    },
    "papermill": {
     "duration": 0.03809,
     "end_time": "2023-02-17T16:36:34.684142",
     "exception": false,
     "start_time": "2023-02-17T16:36:34.646052",
     "status": "completed"
    },
    "tags": []
   },
   "outputs": [],
   "source": [
    "df['sentiment'].replace({'positive':1,'negative':0},inplace=True)"
   ]
  },
  {
   "cell_type": "code",
   "execution_count": 5,
   "id": "41dfa85c",
   "metadata": {
    "execution": {
     "iopub.execute_input": "2023-02-17T16:36:34.698758Z",
     "iopub.status.busy": "2023-02-17T16:36:34.698339Z",
     "iopub.status.idle": "2023-02-17T16:36:35.064102Z",
     "shell.execute_reply": "2023-02-17T16:36:35.063011Z"
    },
    "papermill": {
     "duration": 0.376018,
     "end_time": "2023-02-17T16:36:35.066807",
     "exception": false,
     "start_time": "2023-02-17T16:36:34.690789",
     "status": "completed"
    },
    "tags": []
   },
   "outputs": [],
   "source": [
    "# to remove punctuations\n",
    "import string\n",
    "regular_punct = list(string.punctuation)\n",
    "def remove_punctuation(text):\n",
    "    for punc in regular_punct:\n",
    "        if punc in text:\n",
    "            text = text.replace(punc, ' ')\n",
    "    return text.strip()\n",
    "df['review']=df['review'].apply(remove_punctuation)"
   ]
  },
  {
   "cell_type": "code",
   "execution_count": 6,
   "id": "7962cfaa",
   "metadata": {
    "execution": {
     "iopub.execute_input": "2023-02-17T16:36:35.081187Z",
     "iopub.status.busy": "2023-02-17T16:36:35.080758Z",
     "iopub.status.idle": "2023-02-17T16:36:35.088591Z",
     "shell.execute_reply": "2023-02-17T16:36:35.087417Z"
    },
    "papermill": {
     "duration": 0.01794,
     "end_time": "2023-02-17T16:36:35.091025",
     "exception": false,
     "start_time": "2023-02-17T16:36:35.073085",
     "status": "completed"
    },
    "tags": []
   },
   "outputs": [
    {
     "data": {
      "text/plain": [
       "'If you like original gut wrenching laughter you will like this movie  If you are young or old then you will love this movie  hell even my mom liked it Great Camp'"
      ]
     },
     "execution_count": 6,
     "metadata": {},
     "output_type": "execute_result"
    }
   ],
   "source": [
    "df.head()\n",
    "df.iloc[9].review"
   ]
  },
  {
   "cell_type": "markdown",
   "id": "fc65d4b2",
   "metadata": {
    "papermill": {
     "duration": 0.006143,
     "end_time": "2023-02-17T16:36:35.103625",
     "exception": false,
     "start_time": "2023-02-17T16:36:35.097482",
     "status": "completed"
    },
    "tags": []
   },
   "source": []
  },
  {
   "cell_type": "code",
   "execution_count": 7,
   "id": "5d839ec9",
   "metadata": {
    "execution": {
     "iopub.execute_input": "2023-02-17T16:36:35.117974Z",
     "iopub.status.busy": "2023-02-17T16:36:35.117599Z",
     "iopub.status.idle": "2023-02-17T16:36:45.808666Z",
     "shell.execute_reply": "2023-02-17T16:36:45.807656Z"
    },
    "papermill": {
     "duration": 10.701218,
     "end_time": "2023-02-17T16:36:45.811135",
     "exception": false,
     "start_time": "2023-02-17T16:36:35.109917",
     "status": "completed"
    },
    "tags": []
   },
   "outputs": [
    {
     "data": {
      "text/plain": [
       "<bound method NDFrame.head of                                                   review  sentiment\n",
       "0       One of the other reviewers has mentioned that...          1\n",
       "1       A wonderful little production  The filming te...          1\n",
       "2       I thought this was a wonderful way to spend t...          1\n",
       "3       Basically there s a family where a little boy...          0\n",
       "4       Petter Mattei s  Love in the Time of Money  i...          1\n",
       "...                                                  ...        ...\n",
       "49995   I thought this movie did a down right good jo...          1\n",
       "49996   Bad plot  bad dialogue  bad acting  idiotic d...          0\n",
       "49997   I am a Catholic taught in parochial elementar...          0\n",
       "49998   I m going to have to disagree with the previo...          0\n",
       "49999   No one expects the Star Trek movies to be hig...          0\n",
       "\n",
       "[50000 rows x 2 columns]>"
      ]
     },
     "execution_count": 7,
     "metadata": {},
     "output_type": "execute_result"
    }
   ],
   "source": [
    "# Removing stray br from br tags, t from /t and n from /n\n",
    "def brRemove(text):\n",
    "    x=''\n",
    "    ans=''\n",
    "    for i in text:\n",
    "        if i==' ':\n",
    "            if x!='br' and x!='t'and x!='n':\n",
    "                ans=ans+' '+x\n",
    "            x=''\n",
    "        else:\n",
    "            x=x+i\n",
    "    return ans\n",
    "df['review']=df['review'].apply(brRemove)\n",
    "df.head"
   ]
  },
  {
   "cell_type": "code",
   "execution_count": 8,
   "id": "a2ace452",
   "metadata": {
    "execution": {
     "iopub.execute_input": "2023-02-17T16:36:45.826269Z",
     "iopub.status.busy": "2023-02-17T16:36:45.825899Z",
     "iopub.status.idle": "2023-02-17T16:36:45.948541Z",
     "shell.execute_reply": "2023-02-17T16:36:45.947655Z"
    },
    "papermill": {
     "duration": 0.133393,
     "end_time": "2023-02-17T16:36:45.951173",
     "exception": false,
     "start_time": "2023-02-17T16:36:45.817780",
     "status": "completed"
    },
    "tags": []
   },
   "outputs": [],
   "source": [
    "# Convert to lower case\n",
    "def convert_lower(text):\n",
    "    return text.lower()\n",
    "df['review']=df['review'].apply(convert_lower)"
   ]
  },
  {
   "cell_type": "code",
   "execution_count": 9,
   "id": "8bd08b98",
   "metadata": {
    "execution": {
     "iopub.execute_input": "2023-02-17T16:36:45.966291Z",
     "iopub.status.busy": "2023-02-17T16:36:45.965922Z",
     "iopub.status.idle": "2023-02-17T16:36:45.971522Z",
     "shell.execute_reply": "2023-02-17T16:36:45.970239Z"
    },
    "papermill": {
     "duration": 0.015745,
     "end_time": "2023-02-17T16:36:45.973646",
     "exception": false,
     "start_time": "2023-02-17T16:36:45.957901",
     "status": "completed"
    },
    "tags": []
   },
   "outputs": [],
   "source": [
    "# Removing special characters\n",
    "def remove_special(text):\n",
    "    x=''\n",
    "    \n",
    "    for i in text:\n",
    "        if i.isalnum():\n",
    "            x=x+i\n",
    "        else:\n",
    "            x=x+' '\n",
    "    return x"
   ]
  },
  {
   "cell_type": "code",
   "execution_count": 10,
   "id": "401123bc",
   "metadata": {
    "execution": {
     "iopub.execute_input": "2023-02-17T16:36:45.988933Z",
     "iopub.status.busy": "2023-02-17T16:36:45.988537Z",
     "iopub.status.idle": "2023-02-17T16:36:56.205371Z",
     "shell.execute_reply": "2023-02-17T16:36:56.204417Z"
    },
    "papermill": {
     "duration": 10.227662,
     "end_time": "2023-02-17T16:36:56.208037",
     "exception": false,
     "start_time": "2023-02-17T16:36:45.980375",
     "status": "completed"
    },
    "tags": []
   },
   "outputs": [],
   "source": [
    "df['review']=df['review'].apply(remove_special)"
   ]
  },
  {
   "cell_type": "code",
   "execution_count": 11,
   "id": "e2572ed4",
   "metadata": {
    "execution": {
     "iopub.execute_input": "2023-02-17T16:36:56.224997Z",
     "iopub.status.busy": "2023-02-17T16:36:56.224616Z",
     "iopub.status.idle": "2023-02-17T16:36:57.821387Z",
     "shell.execute_reply": "2023-02-17T16:36:57.820493Z"
    },
    "papermill": {
     "duration": 1.608777,
     "end_time": "2023-02-17T16:36:57.823826",
     "exception": false,
     "start_time": "2023-02-17T16:36:56.215049",
     "status": "completed"
    },
    "tags": []
   },
   "outputs": [],
   "source": [
    "# Removing stopwords\n",
    "import nltk\n",
    "from nltk.corpus import stopwords\n",
    "def remove_stopwords(text):\n",
    "    \n",
    "    x=[]\n",
    "    for i in text.split():\n",
    "        if i not in stopwords.words('english'):\n",
    "            x.append(i)\n",
    "    y=x[:]\n",
    "    x.clear()\n",
    "    return y\n"
   ]
  },
  {
   "cell_type": "code",
   "execution_count": 12,
   "id": "f2a86b92",
   "metadata": {
    "execution": {
     "iopub.execute_input": "2023-02-17T16:36:57.838151Z",
     "iopub.status.busy": "2023-02-17T16:36:57.837794Z",
     "iopub.status.idle": "2023-02-17T17:01:55.028398Z",
     "shell.execute_reply": "2023-02-17T17:01:55.027276Z"
    },
    "papermill": {
     "duration": 1497.20683,
     "end_time": "2023-02-17T17:01:55.037129",
     "exception": false,
     "start_time": "2023-02-17T16:36:57.830299",
     "status": "completed"
    },
    "tags": []
   },
   "outputs": [
    {
     "data": {
      "text/html": [
       "<div>\n",
       "<style scoped>\n",
       "    .dataframe tbody tr th:only-of-type {\n",
       "        vertical-align: middle;\n",
       "    }\n",
       "\n",
       "    .dataframe tbody tr th {\n",
       "        vertical-align: top;\n",
       "    }\n",
       "\n",
       "    .dataframe thead th {\n",
       "        text-align: right;\n",
       "    }\n",
       "</style>\n",
       "<table border=\"1\" class=\"dataframe\">\n",
       "  <thead>\n",
       "    <tr style=\"text-align: right;\">\n",
       "      <th></th>\n",
       "      <th>review</th>\n",
       "      <th>sentiment</th>\n",
       "    </tr>\n",
       "  </thead>\n",
       "  <tbody>\n",
       "    <tr>\n",
       "      <th>0</th>\n",
       "      <td>[one, reviewers, mentioned, watching, 1, oz, e...</td>\n",
       "      <td>1</td>\n",
       "    </tr>\n",
       "    <tr>\n",
       "      <th>1</th>\n",
       "      <td>[wonderful, little, production, filming, techn...</td>\n",
       "      <td>1</td>\n",
       "    </tr>\n",
       "    <tr>\n",
       "      <th>2</th>\n",
       "      <td>[thought, wonderful, way, spend, time, hot, su...</td>\n",
       "      <td>1</td>\n",
       "    </tr>\n",
       "    <tr>\n",
       "      <th>3</th>\n",
       "      <td>[basically, family, little, boy, jake, thinks,...</td>\n",
       "      <td>0</td>\n",
       "    </tr>\n",
       "    <tr>\n",
       "      <th>4</th>\n",
       "      <td>[petter, mattei, love, time, money, visually, ...</td>\n",
       "      <td>1</td>\n",
       "    </tr>\n",
       "  </tbody>\n",
       "</table>\n",
       "</div>"
      ],
      "text/plain": [
       "                                              review  sentiment\n",
       "0  [one, reviewers, mentioned, watching, 1, oz, e...          1\n",
       "1  [wonderful, little, production, filming, techn...          1\n",
       "2  [thought, wonderful, way, spend, time, hot, su...          1\n",
       "3  [basically, family, little, boy, jake, thinks,...          0\n",
       "4  [petter, mattei, love, time, money, visually, ...          1"
      ]
     },
     "execution_count": 12,
     "metadata": {},
     "output_type": "execute_result"
    }
   ],
   "source": [
    "df['review']=df['review'].apply(remove_stopwords)\n",
    "df.head()"
   ]
  },
  {
   "cell_type": "code",
   "execution_count": 13,
   "id": "14cfd1f4",
   "metadata": {
    "execution": {
     "iopub.execute_input": "2023-02-17T17:01:55.052825Z",
     "iopub.status.busy": "2023-02-17T17:01:55.051753Z",
     "iopub.status.idle": "2023-02-17T17:01:55.058645Z",
     "shell.execute_reply": "2023-02-17T17:01:55.057613Z"
    },
    "papermill": {
     "duration": 0.017293,
     "end_time": "2023-02-17T17:01:55.060901",
     "exception": false,
     "start_time": "2023-02-17T17:01:55.043608",
     "status": "completed"
    },
    "tags": []
   },
   "outputs": [],
   "source": [
    "# Stemming\n",
    "from nltk.stem.porter import PorterStemmer\n",
    "ps=PorterStemmer()\n",
    "y=[]\n",
    "def stem(text):\n",
    "    for i in text:\n",
    "        y.append(ps.stem(i))\n",
    "    z=y[:]\n",
    "    y.clear()\n",
    "    return z\n"
   ]
  },
  {
   "cell_type": "code",
   "execution_count": 14,
   "id": "881ff56f",
   "metadata": {
    "execution": {
     "iopub.execute_input": "2023-02-17T17:01:55.077476Z",
     "iopub.status.busy": "2023-02-17T17:01:55.077056Z",
     "iopub.status.idle": "2023-02-17T17:04:40.790969Z",
     "shell.execute_reply": "2023-02-17T17:04:40.789813Z"
    },
    "papermill": {
     "duration": 165.725003,
     "end_time": "2023-02-17T17:04:40.793992",
     "exception": false,
     "start_time": "2023-02-17T17:01:55.068989",
     "status": "completed"
    },
    "tags": []
   },
   "outputs": [],
   "source": [
    "df['review']=df['review'].apply(stem)\n",
    "\n",
    "# joining it back\n",
    "def join_back(list_input):\n",
    "    return \" \".join(list_input)"
   ]
  },
  {
   "cell_type": "code",
   "execution_count": 15,
   "id": "ac4101a5",
   "metadata": {
    "execution": {
     "iopub.execute_input": "2023-02-17T17:04:40.808940Z",
     "iopub.status.busy": "2023-02-17T17:04:40.808540Z",
     "iopub.status.idle": "2023-02-17T17:04:41.129110Z",
     "shell.execute_reply": "2023-02-17T17:04:41.127884Z"
    },
    "papermill": {
     "duration": 0.330792,
     "end_time": "2023-02-17T17:04:41.131815",
     "exception": false,
     "start_time": "2023-02-17T17:04:40.801023",
     "status": "completed"
    },
    "tags": []
   },
   "outputs": [],
   "source": [
    "df['review']=df['review'].apply(join_back)\n"
   ]
  },
  {
   "cell_type": "code",
   "execution_count": 16,
   "id": "46bbbaf5",
   "metadata": {
    "execution": {
     "iopub.execute_input": "2023-02-17T17:04:41.145978Z",
     "iopub.status.busy": "2023-02-17T17:04:41.145557Z",
     "iopub.status.idle": "2023-02-17T17:04:46.496680Z",
     "shell.execute_reply": "2023-02-17T17:04:46.495645Z"
    },
    "papermill": {
     "duration": 5.361408,
     "end_time": "2023-02-17T17:04:46.499337",
     "exception": false,
     "start_time": "2023-02-17T17:04:41.137929",
     "status": "completed"
    },
    "tags": []
   },
   "outputs": [],
   "source": [
    "# Bag of words\n",
    "from sklearn.feature_extraction.text import CountVectorizer\n",
    "cv = CountVectorizer(max_features=1000,binary=True)\n",
    "X = cv.fit_transform(df['review']).toarray() \n",
    "y = df.iloc[:,-1].values "
   ]
  },
  {
   "cell_type": "code",
   "execution_count": 17,
   "id": "a17774e0",
   "metadata": {
    "execution": {
     "iopub.execute_input": "2023-02-17T17:04:46.515324Z",
     "iopub.status.busy": "2023-02-17T17:04:46.514949Z",
     "iopub.status.idle": "2023-02-17T17:04:46.667659Z",
     "shell.execute_reply": "2023-02-17T17:04:46.666752Z"
    },
    "papermill": {
     "duration": 0.163835,
     "end_time": "2023-02-17T17:04:46.670244",
     "exception": false,
     "start_time": "2023-02-17T17:04:46.506409",
     "status": "completed"
    },
    "tags": []
   },
   "outputs": [],
   "source": [
    "from sklearn.model_selection import train_test_split\n",
    "X_train,X_test,y_train,y_test = train_test_split(X,y,test_size=0.2)"
   ]
  },
  {
   "cell_type": "code",
   "execution_count": 18,
   "id": "876832f2",
   "metadata": {
    "execution": {
     "iopub.execute_input": "2023-02-17T17:04:46.685303Z",
     "iopub.status.busy": "2023-02-17T17:04:46.684801Z",
     "iopub.status.idle": "2023-02-17T17:04:49.055445Z",
     "shell.execute_reply": "2023-02-17T17:04:49.054246Z"
    },
    "papermill": {
     "duration": 2.381198,
     "end_time": "2023-02-17T17:04:49.058107",
     "exception": false,
     "start_time": "2023-02-17T17:04:46.676909",
     "status": "completed"
    },
    "tags": []
   },
   "outputs": [],
   "source": [
    "from sklearn.naive_bayes import BernoulliNB,MultinomialNB,GaussianNB\n",
    "from sklearn.metrics import accuracy_score\n",
    "model1 = MultinomialNB()\n",
    "model2 = BernoulliNB()\n",
    "model3 = GaussianNB()\n",
    "\n",
    "model1.fit(X_train,y_train)\n",
    "model2.fit(X_train,y_train)\n",
    "model3.fit(X_train,y_train)\n",
    "\n",
    "y_pred1 = model1.predict(X_test)\n",
    "y_pred2 = model2.predict(X_test)\n",
    "y_pred3 = model3.predict(X_test)"
   ]
  },
  {
   "cell_type": "code",
   "execution_count": 19,
   "id": "4ba3bc40",
   "metadata": {
    "execution": {
     "iopub.execute_input": "2023-02-17T17:04:49.072819Z",
     "iopub.status.busy": "2023-02-17T17:04:49.072398Z",
     "iopub.status.idle": "2023-02-17T17:04:49.082037Z",
     "shell.execute_reply": "2023-02-17T17:04:49.080991Z"
    },
    "papermill": {
     "duration": 0.019963,
     "end_time": "2023-02-17T17:04:49.084571",
     "exception": false,
     "start_time": "2023-02-17T17:04:49.064608",
     "status": "completed"
    },
    "tags": []
   },
   "outputs": [
    {
     "name": "stdout",
     "output_type": "stream",
     "text": [
      "Multinomial Accuracy 0.8402\n",
      "Bernoulli Accuracy 0.841\n",
      "Gaussian Accuracy 0.8204\n"
     ]
    }
   ],
   "source": [
    "print(\"Multinomial Accuracy\",accuracy_score(y_test,y_pred1))\n",
    "print(\"Bernoulli Accuracy\",accuracy_score(y_test,y_pred2))\n",
    "print(\"Gaussian Accuracy\",accuracy_score(y_test,y_pred3))"
   ]
  },
  {
   "cell_type": "code",
   "execution_count": null,
   "id": "706468c1",
   "metadata": {
    "papermill": {
     "duration": 0.00636,
     "end_time": "2023-02-17T17:04:49.097545",
     "exception": false,
     "start_time": "2023-02-17T17:04:49.091185",
     "status": "completed"
    },
    "tags": []
   },
   "outputs": [],
   "source": []
  }
 ],
 "metadata": {
  "kernelspec": {
   "display_name": "Python 3",
   "language": "python",
   "name": "python3"
  },
  "language_info": {
   "codemirror_mode": {
    "name": "ipython",
    "version": 3
   },
   "file_extension": ".py",
   "mimetype": "text/x-python",
   "name": "python",
   "nbconvert_exporter": "python",
   "pygments_lexer": "ipython3",
   "version": "3.7.12"
  },
  "papermill": {
   "default_parameters": {},
   "duration": 1706.064871,
   "end_time": "2023-02-17T17:04:50.030648",
   "environment_variables": {},
   "exception": null,
   "input_path": "__notebook__.ipynb",
   "output_path": "__notebook__.ipynb",
   "parameters": {},
   "start_time": "2023-02-17T16:36:23.965777",
   "version": "2.3.4"
  }
 },
 "nbformat": 4,
 "nbformat_minor": 5
}
